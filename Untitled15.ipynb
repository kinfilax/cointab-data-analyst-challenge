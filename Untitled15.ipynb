{
  "nbformat": 4,
  "nbformat_minor": 0,
  "metadata": {
    "colab": {
      "provenance": [],
      "authorship_tag": "ABX9TyOuxYqZ9Ri5EEQg55o+MKyO",
      "include_colab_link": true
    },
    "kernelspec": {
      "name": "python3",
      "display_name": "Python 3"
    },
    "language_info": {
      "name": "python"
    }
  },
  "cells": [
    {
      "cell_type": "markdown",
      "metadata": {
        "id": "view-in-github",
        "colab_type": "text"
      },
      "source": [
        "<a href=\"https://colab.research.google.com/github/kinfilax/cointab-data-analyst-challenge/blob/main/Untitled15.ipynb\" target=\"_parent\"><img src=\"https://colab.research.google.com/assets/colab-badge.svg\" alt=\"Open In Colab\"/></a>"
      ]
    },
    {
      "cell_type": "code",
      "execution_count": null,
      "metadata": {
        "id": "03FOtKOAmg0W"
      },
      "outputs": [],
      "source": [
        "import csv\n",
        "from itertools import count"
      ]
    },
    {
      "cell_type": "code",
      "source": [
        "with open('output_dataset\\\\final_output.csv', mode ='r')as file:\n",
        "\n",
        "    csvFile = csv.reader(file)\n",
        "    count_negative = 0\n",
        "    count_positive = 0\n",
        "    count_zero = 0\n",
        "    sum = 0\n",
        "    j=0\n",
        "    total_positive = 0\n",
        "    total_negative = 0\n",
        "  \n",
        "    for line in csvFile:\n",
        "        if(j==0):\n",
        "            j=j+1\n",
        "            continue\n",
        "        if(float(line[-1]) < 0):\n",
        "            count_negative = count_negative+1\n",
        "            total_negative = total_negative + float(line[-1])\n",
        "        elif(float(line[-1]) > 0):\n",
        "            count_positive = count_positive+1\n",
        "            total_positive = total_positive + float(line[-1])\n",
        "        else:\n",
        "            count_zero = count_zero + 1\n",
        "        sum = sum + float(line[-2])"
      ],
      "metadata": {
        "id": "wcIe3rjQmhbI"
      },
      "execution_count": null,
      "outputs": []
    },
    {
      "cell_type": "code",
      "source": [
        "data = [['Total Orders - Correctly Charged',count_zero,sum],\n",
        "[\"Total Orders - Over Charged\",count_negative,total_negative],\n",
        "[\"Total Orders - Under Charged\",count_positive,total_positive]]\n"
      ],
      "metadata": {
        "id": "gHl2Oyfnmhdj"
      },
      "execution_count": null,
      "outputs": []
    },
    {
      "cell_type": "code",
      "source": [
        "header = [\"field\",\"count\",\"sum\"]\n",
        "csv_file = \"output_dataset\\\\summary_output.csv\"\n",
        "try:\n",
        "    with open(csv_file, 'a', newline='') as csvfile:\n",
        "        writer = csv.writer(csvfile,)\n",
        "        writer.writerow(header)\n",
        "        writer.writerows(data)"
      ],
      "metadata": {
        "id": "G7AYIxxXmhgN"
      },
      "execution_count": null,
      "outputs": []
    },
    {
      "cell_type": "code",
      "source": [
        "except IOError:\n",
        "    print(\"I/O error\")"
      ],
      "metadata": {
        "id": "FTFGhzVNmhjG"
      },
      "execution_count": null,
      "outputs": []
    }
  ]
}