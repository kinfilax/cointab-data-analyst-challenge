{
  "nbformat": 4,
  "nbformat_minor": 0,
  "metadata": {
    "colab": {
      "provenance": [],
      "authorship_tag": "ABX9TyPK1defk50JuA+cj2S67W8c",
      "include_colab_link": true
    },
    "kernelspec": {
      "name": "python3",
      "display_name": "Python 3"
    },
    "language_info": {
      "name": "python"
    }
  },
  "cells": [
    {
      "cell_type": "markdown",
      "metadata": {
        "id": "view-in-github",
        "colab_type": "text"
      },
      "source": [
        "<a href=\"https://colab.research.google.com/github/kinfilax/cointab-data-analyst-challenge/blob/main/Untitled14.ipynb\" target=\"_parent\"><img src=\"https://colab.research.google.com/assets/colab-badge.svg\" alt=\"Open In Colab\"/></a>"
      ]
    },
    {
      "cell_type": "code",
      "execution_count": null,
      "metadata": {
        "id": "RKZqLnJ8fP9F"
      },
      "outputs": [],
      "source": [
        "from asyncore import read\n",
        "import math\n",
        "from turtle import clear\n",
        "import csv"
      ]
    },
    {
      "cell_type": "code",
      "source": [
        "def round_up_to_nearest_half_int(num):\n",
        "    return math.ceil(num * 2) / 2   \n",
        "\n",
        "## creating rates analysis dictionary\n",
        "rates_record = open(\"input_dataset\\\\rates.csv\")\n",
        "rates_line = rates_record.readlines()\n",
        "j = 0\n",
        "for i in rates_line:\n",
        "    if j ==0:\n",
        "        j=j+1\n",
        "        continue\n",
        "    row = i.split(\",\")\n",
        "    rate = {\n",
        "        \"fwd_a_fixed\" : float(row[0]),\n",
        "        \"fwd_a_additional\" : float(row[1]),\n",
        "\n",
        "        \"fwd_b_fixed\" : float(row[2]),\n",
        "        \"fwd_b_additional\" : float(row[3]),\n",
        "\n",
        "        \"fwd_c_fixed\" : float(row[4]),\n",
        "        \"fwd_c_additional\" : float(row[5]),\n",
        "\n",
        "        \"fwd_d_fixed\" : float(row[6]),\n",
        "        \"fwd_d_additional\" : float(row[7]),\n",
        "\n",
        "        \"fwd_e_fixed\" : float(row[8]),\n",
        "        \"fwd_e_additional\" : float(row[9]),\n",
        "\n",
        "        \"rto_a_fixed\":float(row[10]),\n",
        "        \"rto_a_additional\":float(row[11]),\n",
        "\n",
        "        \"rto_b_fixed\":float(row[12]),\n",
        "        \"rto_b_additional\":float(row[13]),\n",
        "\n",
        "        \"rto_c_fixed\":float(row[14]),\n",
        "        \"rto_c_additional\":float(row[15]),\n",
        "\n",
        "        \"rto_d_fixed\":float(row[16]),\n",
        "        \"rto_d_additional\":float(row[17]),\n",
        "\n",
        "        \"rto_e_fixed\":float(row[18]),\n",
        "        \"rto_e_additional\":float(row[19])\n",
        "\n",
        "         }"
      ],
      "metadata": {
        "id": "iM4YEpLDlC0Y"
      },
      "execution_count": null,
      "outputs": []
    },
    {
      "cell_type": "code",
      "source": [
        "def acutal_bill(x,y,z):\n",
        "    \n",
        "    if x ==\"Forward charges\":\n",
        "        if y ==\"a\":\n",
        "            if z == 0.5:\n",
        "                result_bill = rate[\"fwd_a_fixed\"]\n",
        "            else:      \n",
        "                result_bill = rate[\"fwd_a_fixed\"] + ( (data[key][\"Weight_slab_as_per_X_KG\"] - 0.5) /0.5)*rate[\"fwd_a_additional\"]\n",
        "\n",
        "        if y ==\"b\":\n",
        "            if z == 0.5:\n",
        "                result_bill = rate[\"fwd_b_fixed\"] \n",
        "            else:      \n",
        "                result_bill = rate[\"fwd_b_fixed\"] + ( (data[key][\"Weight_slab_as_per_X_KG\"] - 0.5) /0.5)*rate[\"fwd_b_additional\"]\n",
        "\n",
        "\n",
        "        if y ==\"c\":\n",
        "            if z == 0.5:\n",
        "                result_bill = rate[\"fwd_c_fixed\"] \n",
        "            else:      \n",
        "                result_bill = rate[\"fwd_c_fixed\"] + ( (data[key][\"Weight_slab_as_per_X_KG\"] - 0.5) /0.5)*rate[\"fwd_c_additional\"]\n",
        "\n",
        "            \n",
        "        if y ==\"d\":\n",
        "            if z == 0.5:\n",
        "                result_bill = rate[\"fwd_d_fixed\"] \n",
        "            else:      \n",
        "                result_bill = rate[\"fwd_d_fixed\"] + ( (data[key][\"Weight_slab_as_per_X_KG\"] - 0.5) /0.5)*rate[\"fwd_d_additional\"]\n",
        "\n",
        "        if y ==\"e\":\n",
        "            if z == 0.5:\n",
        "                result_bill = rate[\"fwd_e_fixed\"] \n",
        "            else:      \n",
        "                result_bill = rate[\"fwd_e_fixed\"] + ( (data[key][\"Weight_slab_as_per_X_KG\"] - 0.5) /0.5)*rate[\"fwd_e_additional\"]\n",
        "                    \n",
        "    if x == \"Forward and RTO charges\":\n",
        "        if y ==\"a\":\n",
        "            if z == 0.5:\n",
        "                result_bill = rate[\"fwd_a_fixed\"] + rate[\"rto_a_fixed\"]\n",
        "            else:    \n",
        "                result_bill = rate[\"fwd_a_fixed\"] + rate[\"rto_a_fixed\"] +((data[key][\"Weight_slab_as_per_X_KG\"] - 0.5) /0.5)*rate[\"fwd_a_additional\"] +  ((data[key][\"Weight_slab_as_per_X_KG\"] - 0.5) /0.5)*rate[\"rto_a_additional\"]\n",
        "\n",
        "        if y ==\"b\":\n",
        "            if z == 0.5:\n",
        "                result_bill = rate[\"fwd_b_fixed\"] + rate[\"rto_b_fixed\"]\n",
        "            else:    \n",
        "                result_bill = rate[\"fwd_b_fixed\"] + rate[\"rto_b_fixed\"] +((data[key][\"Weight_slab_as_per_X_KG\"] - 0.5) /0.5)*rate[\"fwd_b_additional\"] +  ((data[key][\"Weight_slab_as_per_X_KG\"] - 0.5) /0.5)*rate[\"rto_b_additional\"]                 \n",
        "        \n",
        "        if y ==\"c\":\n",
        "            if z == 0.5:\n",
        "                result_bill = rate[\"fwd_c_fixed\"]+rate[\"rto_c_fixed\"]\n",
        "            else:    \n",
        "                result_bill = rate[\"fwd_c_fixed\"] + rate[\"rto_c_fixed\"] +((data[key][\"Weight_slab_as_per_X_KG\"] - 0.5) /0.5)*rate[\"fwd_c_additional\"] +  ((data[key][\"Weight_slab_as_per_X_KG\"] - 0.5) /0.5)*rate[\"rto_c_additional\"]\n",
        "        \n",
        "        if y ==\"d\":\n",
        "            if z == 0.5:\n",
        "                result_bill = rate[\"fwd_d_fixed\"]+rate[\"rto_d_fixed\"]\n",
        "            else:    \n",
        "                result_bill = rate[\"fwd_d_fixed\"] + rate[\"rto_d_fixed\"] + ((data[key][\"Weight_slab_as_per_X_KG\"] - 0.5) /0.5)*rate[\"fwd_d_additional\"] +  ((data[key][\"Weight_slab_as_per_X_KG\"] - 0.5) /0.5)*rate[\"rto_d_additional\"]\n",
        "\n",
        "        if y==\"e\":\n",
        "            if z == 0.5:\n",
        "                result_bill = rate[\"fwd_e_fixed\"]+rate[\"rto_e_fixed\"]\n",
        "            else:    \n",
        "                result_bill = rate[\"fwd_e_fixed\"] +rate[\"rto_e_fixed\"]+  ((data[key][\"Weight_slab_as_per_X_KG\"] - 0.5) /0.5)*rate[\"fwd_e_additional\"] +  ((data[key][\"Weight_slab_as_per_X_KG\"] - 0.5) /0.5)*rate[\"rto_e_additional\"]\n",
        "    final_bill = round(result_bill,2)\n",
        "    return final_bill   \n",
        "    \n"
      ],
      "metadata": {
        "id": "6LlZ10i3lC3A"
      },
      "execution_count": null,
      "outputs": []
    },
    {
      "cell_type": "code",
      "source": [
        "sku_master_data = {}\n",
        "sku_master = open(\"input_dataset\\\\sku_master.csv\")\n",
        "sku_line = sku_master.readlines()\n",
        "j =0\n",
        "for i in sku_line:\n",
        "    if j ==0:\n",
        "        j =j+1\n",
        "        continue\n",
        "    row = i.split(\",\")\n",
        "    sku_master_data[row[0]]=row[1].strip()\n",
        "\n",
        "data = {}"
      ],
      "metadata": {
        "id": "XwGaVNVtlC5w"
      },
      "execution_count": null,
      "outputs": []
    },
    {
      "cell_type": "code",
      "source": [
        "invoice = open(\"input_dataset\\\\Courier_Invoice.csv\")\n",
        "invoice_line = invoice.readlines()\n",
        "j=0\n",
        "for i in invoice_line:\n",
        "    if j ==0:\n",
        "        j = j+1\n",
        "        continue\n",
        "    row = i.split(\",\")\n",
        "    data[row[1]] = {\n",
        "        \"AWB_code\": row[0],\n",
        "        \"order_ID\": row[1],\n",
        "        \"Total_weight_as_per_Courier_Company_KG\": row[2],\n",
        "        \"warehouse_pincode\": row[3],\n",
        "        \"customer_pincode\": row[4],\n",
        "        \"Delivery_Zone_charged_by_Courier_Company\": row[5],\n",
        "        \"shipment_type\": row[6],\n",
        "        \"Charges_Billed_by_Courier_Company_Rs\": row[7].strip()\n",
        "    }"
      ],
      "metadata": {
        "id": "PrAWbtoTlC8e"
      },
      "execution_count": null,
      "outputs": []
    },
    {
      "cell_type": "code",
      "source": [
        "\n",
        "order_record = open(\"input_dataset\\\\order_report.csv\")\n",
        "order_line = order_record.readlines()\n",
        "\n",
        "for key, value in data.items():\n",
        "    for i in order_line:\n",
        "        row = i.split(\",\")\n",
        "        if value[\"order_ID\"]== row[0]:\n",
        "            if \"Total_weight_as_per_X_KG\" in data[key]:\n",
        "                data[key][\"Total_weight_as_per_X_KG\"] = data[key][\"Total_weight_as_per_X_KG\"] + float(row[2])*float(sku_master_data[row[1]])/1000\n",
        "            else:\n",
        "                data[key][\"Total_weight_as_per_X_KG\"] = float(row[2])*float(sku_master_data[row[1]])/1000\n",
        "    \n",
        "\n",
        "pincode_zone = open(\"input_dataset\\\\pincode_zone.csv\")\n",
        "pincode_line = pincode_zone.readlines()\n",
        "\n",
        "for key, value in data.items():\n",
        "    j= 0\n",
        "    for i in pincode_line:\n",
        "        if j ==0:\n",
        "            j=j+1\n",
        "            continue\n",
        "        row = i.split(\",\")\n",
        "        if value[\"customer_pincode\"] in row[1]:\n",
        "            data[key][\"Delivery_Zone_as_per_X\"] = row[2].strip()\n",
        "\n",
        "for key, value in data.items():\n",
        "   \n",
        "    data[key][\"Weight_slab_as_per_X_KG\"] =round_up_to_nearest_half_int((data[key]['Total_weight_as_per_X_KG']))\n",
        "    data[key][\"Weight_slab_charged_by_Courier_Company_KG\"] = round_up_to_nearest_half_int(float(data[key][\"Total_weight_as_per_Courier_Company_KG\"]))    \n",
        "    data[key][\"Expected_Charge_as_per_X_Rs\"]=acutal_bill(data[key][\"shipment_type\"], data[key][\"Delivery_Zone_as_per_X\"], data[key][\"Weight_slab_as_per_X_KG\"])\n",
        "    data[key][\"Difference_Between_Expected_Charges_and_Billed_Charges_Rs\"]= (data[key][\"Expected_Charge_as_per_X_Rs\"]) -(float(data[key][\"Charges_Billed_by_Courier_Company_Rs\"]))"
      ],
      "metadata": {
        "id": "GgHZYC-clC_P"
      },
      "execution_count": null,
      "outputs": []
    },
    {
      "cell_type": "code",
      "source": [
        "for key,value in data.items():\n",
        "    del data[key][\"warehouse_pincode\"]\n",
        "    del data[key][\"customer_pincode\"]\n",
        "    del data[key][\"shipment_type\"]\n"
      ],
      "metadata": {
        "id": "GcflCDJslDB-"
      },
      "execution_count": null,
      "outputs": []
    },
    {
      "cell_type": "code",
      "source": [
        "csv_columns = [\n",
        "    'AWB_code', \n",
        "    'order_ID', \n",
        "    'Total_weight_as_per_Courier_Company_KG', \n",
        "    'Delivery_Zone_charged_by_Courier_Company', \n",
        "    'Charges_Billed_by_Courier_Company_Rs', \n",
        "    'Total_weight_as_per_X_KG', \n",
        "    'Delivery_Zone_as_per_X', \n",
        "    'Weight_slab_as_per_X_KG', \n",
        "    'Weight_slab_charged_by_Courier_Company_KG', \n",
        "    'Expected_Charge_as_per_X_Rs', \n",
        "    'Difference_Between_Expected_Charges_and_Billed_Charges_Rs'\n",
        "    ]"
      ],
      "metadata": {
        "id": "Jh8oSoi0lDE9"
      },
      "execution_count": null,
      "outputs": []
    },
    {
      "cell_type": "code",
      "source": [
        "csv_file = \"output_dataset\\\\final_output.csv\"\n",
        "try:\n",
        "    with open(csv_file, 'a', newline='') as csvfile:\n",
        "        writer = csv.DictWriter(csvfile, fieldnames=csv_columns)\n",
        "        writer.writeheader()\n",
        "        values_dict = list(data.values())\n",
        "        writer.writerows(values_dict"
      ],
      "metadata": {
        "id": "XFOTd4hAmCv3"
      },
      "execution_count": null,
      "outputs": []
    },
    {
      "cell_type": "code",
      "source": [
        "except IOError:\n",
        "    print(\"I/O error\")"
      ],
      "metadata": {
        "id": "JW5ZzsCUmCyg"
      },
      "execution_count": null,
      "outputs": []
    }
  ]
}